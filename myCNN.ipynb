# -*- coding: utf-8 -*-
"""
Created on Wed Aug 23 19:10:53 2017

@author: Avi
"""

# Part 1 - Building the Convolutional neural network
#Importing keras models and layers
from keras.models import Sequential
from keras.layers import Convolution2D
from keras.layers import MaxPooling2D
from keras.layers import Flatten
from keras.layers import Dense

#initalising the CNN
classifier = Sequential()

#step 1 - Convolution
classifier.add(Convolution2D(32, 3, 3, input_shape = (128, 128 , 3 ), activation = 'relu' ))

#step 2 - max pooling
classifier.add(MaxPooling2D(pool_size = (2, 2)))
#Adding a 2nd Convolution layer
classifier.add(Convolution2D(32, 3, 3, activation = 'relu' ))
classifier.add(MaxPooling2D(pool_size = (2, 2)))

#Adding a 3rd Convolution layer
classifier.add(Convolution2D(32, 3, 3, activation = 'relu' ))
classifier.add(MaxPooling2D(pool_size = (2, 2)))
#step 3 - flattening
classifier.add(Flatten())

#step 4 - full connection
classifier.add(Dense(output_dim = 128 , activation = 'relu' ))
classifier.add(Dense(output_dim = 1 , activation = 'sigmoid' ))
    
#compiling the CNN
classifier.compile(optimizer = 'adam', loss = 'binary_crossentropy', metrics = ['accuracy'])

#Part 2 - fitting the CNN to the images
from keras.preprocessing.image import ImageDataGenerator
train_datagen = ImageDataGenerator(
        rescale=1./255,
        shear_range=0.2,
        zoom_range=0.2,
        horizontal_flip=True)

test_datagen = ImageDataGenerator(rescale=1./255)

training_set = train_datagen.flow_from_directory(  'Convolutional_Neural_Networks/dataset/training_Set',
                                                target_size=(128, 128),
                                                batch_size=32,
                                                class_mode='binary')

test_Set = test_datagen.flow_from_directory('Convolutional_Neural_Networks/dataset/test_Set',
                                            target_size=(128, 128),
                                            batch_size=32,
                                            class_mode='binary')
#input/WhatsApp Image 2017-08-24 at 13.29.28.jpeg
classifier.fit_generator(training_set,
                        steps_per_epoch=200,
                        epochs=25,
                        validation_data=test_Set,
                        validation_steps=100)

from keras.preprocessing import image as image_utils
import numpy as np
 
test_image = image_utils.load_img('dataset/input/wolf1.jpg', target_size=(128, 128))
test_image = image_utils.img_to_array(test_image)
test_image = np.expand_dims(test_image, axis=0)
 
result = classifier.predict_on_batch(test_image)

from keras.utils import plot_model
plot_model(classifier, to_file='model.png')